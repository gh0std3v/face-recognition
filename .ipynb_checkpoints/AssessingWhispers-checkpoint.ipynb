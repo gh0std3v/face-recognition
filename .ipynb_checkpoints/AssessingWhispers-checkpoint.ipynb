{
 "cells": [
  {
   "cell_type": "code",
   "execution_count": null,
   "id": "6e456401",
   "metadata": {},
   "outputs": [],
   "source": [
    "def assess_success(clusters, truth):\n",
    "    correct_match = 0\n",
    "    label_match_only = 0\n",
    "    truth_match_only = 0\n",
    "    no_match = 0\n",
    "    \n",
    "    for node_i in range(len(clusters)):\n",
    "        \n",
    "        if clusters[node_i].label == truth[node_i].label and clusters[node_i].truth == truth[node_i].truth: \n",
    "            correct_match += 1\n",
    "        elif not clusters[node_i].label == truth[node_i].label and clusters[node_i].truth == truth[node_i].truth:\n",
    "            truth_match_only += 1\n",
    "        elif clusters[node_i].label == truth[node_i].label and not clusters[node_i].truth == truth[node_i].truth:\n",
    "            labl_match_only += 1\n",
    "        else: \n",
    "            no_match += 1\n",
    "            \n",
    "    \n",
    "    pairwise_precision = correct_match / (correct_match + )\n",
    "        "
   ]
  },
  {
   "cell_type": "code",
   "execution_count": null,
   "id": "2528dfa2",
   "metadata": {},
   "outputs": [],
   "source": []
  },
  {
   "cell_type": "code",
   "execution_count": null,
   "id": "85bae60a",
   "metadata": {},
   "outputs": [],
   "source": []
  },
  {
   "cell_type": "code",
   "execution_count": null,
   "id": "2ccefa5e",
   "metadata": {},
   "outputs": [],
   "source": []
  },
  {
   "cell_type": "code",
   "execution_count": null,
   "id": "b627d80d",
   "metadata": {},
   "outputs": [],
   "source": []
  },
  {
   "cell_type": "code",
   "execution_count": null,
   "id": "66687a6a",
   "metadata": {},
   "outputs": [],
   "source": []
  },
  {
   "cell_type": "code",
   "execution_count": null,
   "id": "75336b8b",
   "metadata": {},
   "outputs": [],
   "source": []
  },
  {
   "cell_type": "code",
   "execution_count": null,
   "id": "30979725",
   "metadata": {},
   "outputs": [],
   "source": []
  },
  {
   "cell_type": "code",
   "execution_count": null,
   "id": "2b573f34",
   "metadata": {},
   "outputs": [],
   "source": []
  },
  {
   "cell_type": "code",
   "execution_count": null,
   "id": "0ae20c6c",
   "metadata": {},
   "outputs": [],
   "source": []
  },
  {
   "cell_type": "code",
   "execution_count": null,
   "id": "bee8dcbb",
   "metadata": {},
   "outputs": [],
   "source": []
  },
  {
   "cell_type": "code",
   "execution_count": null,
   "id": "de19c6bf",
   "metadata": {},
   "outputs": [],
   "source": []
  }
 ],
 "metadata": {
  "kernelspec": {
   "display_name": "Python 3",
   "language": "python",
   "name": "python3"
  },
  "language_info": {
   "codemirror_mode": {
    "name": "ipython",
    "version": 3
   },
   "file_extension": ".py",
   "mimetype": "text/x-python",
   "name": "python",
   "nbconvert_exporter": "python",
   "pygments_lexer": "ipython3",
   "version": "3.8.5"
  }
 },
 "nbformat": 4,
 "nbformat_minor": 5
}
