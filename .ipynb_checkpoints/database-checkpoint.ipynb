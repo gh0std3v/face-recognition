{
 "cells": [
  {
   "cell_type": "code",
   "execution_count": null,
   "id": "04abfbfe",
   "metadata": {},
   "outputs": [],
   "source": [
    "class Profile:\n",
    "    \n",
    "    def __init__(self, name=\"\", vector_descriptors=[]):\n",
    "        self.name = name # the name of the person\n",
    "        self.vector_descriptors = vector_descriptors # the vector descriptors of each face of the person in the database\n",
    "        self.calculateAverageVD() # Initialize average VD\n",
    "    \n",
    "    def calculateAverageVD(self): # Calculates the average vector descriptor of the person for \n",
    "        self.averageVD = sum(self.vector_descriptors)/len(self.vector_descriptors)"
   ]
  }
 ],
 "metadata": {
  "kernelspec": {
   "display_name": "Python 3",
   "language": "python",
   "name": "python3"
  },
  "language_info": {
   "codemirror_mode": {
    "name": "ipython",
    "version": 3
   },
   "file_extension": ".py",
   "mimetype": "text/x-python",
   "name": "python",
   "nbconvert_exporter": "python",
   "pygments_lexer": "ipython3",
   "version": "3.8.10"
  }
 },
 "nbformat": 4,
 "nbformat_minor": 5
}
