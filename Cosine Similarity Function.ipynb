{
 "cells": [
  {
   "cell_type": "code",
   "execution_count": 2,
   "id": "0f02c43f",
   "metadata": {},
   "outputs": [],
   "source": [
    "import numpy as np\n",
    "import mygrad as mg"
   ]
  },
  {
   "cell_type": "code",
   "execution_count": 67,
   "id": "f5099811",
   "metadata": {},
   "outputs": [],
   "source": [
    "def cos_distance(d_avg, d_test):\n",
    "    d_avg_normalized = d_avg / np.linalg.norm(d_avg)\n",
    "    d_test_normalized = d_test / np.linalg.norm(d_test)\n",
    "    \n",
    "    # print(d_avg_normalized)\n",
    "    # print(d_test_normalized)\n",
    "    \n",
    "    numerator = np.dot(d_avg_normalized, d_test_normalized)\n",
    "    d_avg_mag = np.sqrt(np.dot(d_avg_normalized, d_avg_normalized))\n",
    "    d_test_mag = np.sqrt(np.dot(d_test_normalized, d_test_normalized))\n",
    "    \n",
    "    return 1 - numerator / (d_avg_mag * d_test_mag)"
   ]
  },
  {
   "cell_type": "code",
   "execution_count": 68,
   "id": "b854677c",
   "metadata": {},
   "outputs": [
    {
     "name": "stdout",
     "output_type": "stream",
     "text": [
      "[1. 0.]\n",
      "[1. 0.]\n",
      "0.0\n"
     ]
    }
   ],
   "source": [
    "# d_avg = np.array([2.1, 3., 1.1])\n",
    "# d_test = np.array([2.5, 1.15, 0.7])\n",
    "\n",
    "# d_avg = np.array([2.1, 3., 1.1])\n",
    "# d_test = np.array([2.1, 3., -1.1])\n",
    "\n",
    "# d_avg = np.array([1., 0.])\n",
    "# d_test = np.array([0., 1.])\n",
    "\n",
    "# d_avg = np.array([3., 4.])\n",
    "# d_test = np.array([0.5, 1.])\n",
    "\n",
    "# d_avg = np.array([0., 2.])\n",
    "# d_test = np.array([2., 2.])\n",
    "\n",
    "# d_avg = np.array([1., 0.])\n",
    "# d_test = np.array([1., 0.])\n",
    "\n",
    "# d_avg = np.array([2 / np.sqrt(13), -3 / np.sqrt(13)])\n",
    "# d_test = np.array([1., 0.])\n",
    "\n",
    "cos_dist = cos_distance(d_avg, d_test)\n",
    "print(cos_dist)"
   ]
  },
  {
   "cell_type": "markdown",
   "id": "449d6256",
   "metadata": {},
   "source": [
    "We will use \"cosine distance\" to measure the similarity between two descriptors.\n",
    "\n",
    "$$ \\text{cosine_dist}(\\vec{d}_i, \\vec{d}_j) = 1- \\frac{\\vec{d}_i \\cdot \\vec{d}_j}{|\\vec{d}_i||\\vec{d}_j|} $$"
   ]
  }
 ],
 "metadata": {
  "kernelspec": {
   "display_name": "Python 3",
   "language": "python",
   "name": "python3"
  },
  "language_info": {
   "codemirror_mode": {
    "name": "ipython",
    "version": 3
   },
   "file_extension": ".py",
   "mimetype": "text/x-python",
   "name": "python",
   "nbconvert_exporter": "python",
   "pygments_lexer": "ipython3",
   "version": "3.8.10"
  }
 },
 "nbformat": 4,
 "nbformat_minor": 5
}
